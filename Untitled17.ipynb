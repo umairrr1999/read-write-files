{
 "cells": [
  {
   "cell_type": "code",
   "execution_count": 17,
   "metadata": {},
   "outputs": [],
   "source": [
    "with open('file1.txt','r') as web:\n",
    "    with open('output.txt','w') as wf:\n",
    "        for line in web.readlines():\n",
    "            if '<a hr=' in line:\n",
    "                pos=line.find('<a hr=')\n",
    "                first_quote=line.find('\"',pos)\n",
    "                secoond_quote=line.find('\"',first_quote+1)\n",
    "                url=line[first_quote+1:secoond_quote]\n",
    "                wf.write(url+'\\n')\n",
    "                "
   ]
  },
  {
   "cell_type": "code",
   "execution_count": 24,
   "metadata": {},
   "outputs": [],
   "source": [
    "with open('file1.txt','r') as web:\n",
    "    with open('output2.txt','w') as wf:\n",
    "        page=web.read()\n",
    "        line_exist=True\n",
    "        while line_exist:\n",
    "            pos=page.find('<a hr=')\n",
    "        \n",
    "            if pos==-1:\n",
    "                line_exist=False\n",
    "            else:\n",
    "                first_quote=page.find('\\\"',pos)\n",
    "                secoond_quote=page.find('\\\"',first_quote+1)\n",
    "                url=page[first_quote+1:secoond_quote]\n",
    "                wf.write(url+'\\n')\n",
    "                page=page[secoond_quote:]\n",
    "                    \n",
    "                \n",
    "               \n",
    "                "
   ]
  },
  {
   "cell_type": "code",
   "execution_count": 28,
   "metadata": {},
   "outputs": [],
   "source": [
    "with open(r'D:\\Data\\USB Drive\\New folder\\file1.txt','r') as web:\n",
    "    with open('output3.txt','w') as wf:\n",
    "        page=web.read()\n",
    "        line_exist=True\n",
    "        while line_exist:\n",
    "            pos=page.find('<a hr=')\n",
    "        \n",
    "            if pos==-1:\n",
    "                line_exist=False\n",
    "            else:\n",
    "                first_quote=page.find('\\\"',pos)\n",
    "                secoond_quote=page.find('\\\"',first_quote+1)\n",
    "                url=page[first_quote+1:secoond_quote]\n",
    "                wf.write(url+'\\n')\n",
    "                page=page[secoond_quote:]\n",
    "                    \n",
    "                \n",
    "               \n",
    "                "
   ]
  },
  {
   "cell_type": "code",
   "execution_count": 36,
   "metadata": {},
   "outputs": [],
   "source": [
    "from csv import DictWriter\n",
    "with open('new.csv','w',newline=\"\") as wf:\n",
    "    csv_writer=DictWriter(wf,fieldnames=['frstname','lastname','age'])\n",
    "    csv_writer.writeheader()\n",
    "    csv_writer.writerow({\n",
    "        'frstname':'aaa',\n",
    "        'lastname':'zzz',\n",
    "        'age':20\n",
    "    })\n",
    "    csv_writer.writerow({\n",
    "        'frstname':'asaa',\n",
    "        'lastname':'xzzz',\n",
    "        'age':21\n",
    "    })\n",
    "    \n",
    "    csv_writer.writerows([\n",
    "        {'frstname':'asaaa','lastname':'xzzza','age':21},\n",
    "        {'frstname':'asaaa','lastname':'xzzzss','age':21}\n",
    "        \n",
    "    ])"
   ]
  },
  {
   "cell_type": "code",
   "execution_count": 42,
   "metadata": {},
   "outputs": [],
   "source": [
    "from csv import DictReader\n",
    "\n",
    "from csv import DictWriter\n",
    "with open('new.csv','r',newline=\"\") as rf:\n",
    "    \n",
    "    with open('new2.csv','w',newline=\"\") as wf:\n",
    "        csv_reader=DictReader(rf)\n",
    "        csv_writer=DictWriter(wf,fieldnames=['frstname','lastname','age'])\n",
    "        csv_writer.writeheader()\n",
    "        for row in csv_reader:\n",
    "            fname,lname,age=row['frstname'],row['lastname'],row['age']\n",
    "            csv_writer.writerow({\n",
    "                    'frstname':fname,\n",
    "                    'lastname':lname,\n",
    "                    'age':age\n",
    "                })\n",
    "        \n",
    "      \n",
    "        "
   ]
  }
 ],
 "metadata": {
  "kernelspec": {
   "display_name": "Python 3",
   "language": "python",
   "name": "python3"
  },
  "language_info": {
   "codemirror_mode": {
    "name": "ipython",
    "version": 3
   },
   "file_extension": ".py",
   "mimetype": "text/x-python",
   "name": "python",
   "nbconvert_exporter": "python",
   "pygments_lexer": "ipython3",
   "version": "3.7.4"
  }
 },
 "nbformat": 4,
 "nbformat_minor": 2
}
